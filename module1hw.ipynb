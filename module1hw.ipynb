{
 "cells": [
  {
   "cell_type": "code",
   "execution_count": 24,
   "id": "60d642a5",
   "metadata": {},
   "outputs": [
    {
     "name": "stdout",
     "output_type": "stream",
     "text": [
      "Number of rows: 9704\n",
      "Distinct count in 'fuel_type': 2\n",
      "Max fuel efficiency of cars from Asia: 23.76\n",
      "Median horsepower: 149.0\n",
      "Mode horsepower: 152.0\n",
      "New Median horsepower: 152.0\n",
      "[[62248334.33150761 41431216.5073268 ]\n",
      " [41431216.5073268  28373339.        ]]\n",
      "[[ 5.71497081e-07 -8.34509443e-07]\n",
      " [-8.34509443e-07  1.25380877e-06]]\n",
      "Sum of all elements in w: 0.5187709081074006\n"
     ]
    }
   ],
   "source": [
    "import pandas as pd\n",
    "import numpy as np\n",
    "\n",
    "df = pd.read_csv('car_fuel_efficiency.csv')\n",
    "print(\"Number of rows:\", len(df))\n",
    "print(\"Distinct count in 'fuel_type':\", df['fuel_type'].nunique())\n",
    "# Filter for cars from Asia and find the max fuel efficiency\n",
    "max_efficiency_asia = df[df['origin'] == 'Asia']['fuel_efficiency_mpg'].max()\n",
    "if pd.notnull(max_efficiency_asia):\n",
    "    max_efficiency_asia = round(max_efficiency_asia, 2)\n",
    "print(\"Max fuel efficiency of cars from Asia:\", max_efficiency_asia)\n",
    "\n",
    "#median horsepower\n",
    "median_horsepower = df['horsepower'].median()\n",
    "print(\"Median horsepower:\", median_horsepower)  \n",
    "\n",
    "mode_horsepower = df['horsepower'].mode()[0]\n",
    "print(\"Mode horsepower:\", mode_horsepower)\n",
    "\n",
    "# Fill missing values in 'horsepower' with the mode (most frequent value)\n",
    "df['horsepower'] = df['horsepower'].fillna(mode_horsepower)\n",
    "median_horsepower_new = df['horsepower'].median()\n",
    "print(\"New Median horsepower:\", median_horsepower_new) \n",
    "\n",
    "# Select all cars from Asia\n",
    "asia_cars = df[df['origin'] == 'Asia']\n",
    "\n",
    "# Select only columns vehicle_weight and model_year\n",
    "asia_cars_selected = asia_cars[['vehicle_weight', 'model_year']]\n",
    "\n",
    "# Select the first 7 values\n",
    "asia_cars_first7 = asia_cars_selected.head(7)\n",
    "\n",
    "# Get the underlying NumPy array\n",
    "X = asia_cars_first7.values\n",
    "\n",
    "# Compute matrix-matrix multiplication between the transpose of X and X\n",
    "XTX = X.T @ X\n",
    "\n",
    "print(XTX)\n",
    "XTX_inv = np.linalg.inv(XTX)\n",
    "print(XTX_inv)\n",
    "\n",
    "# Create the array y\n",
    "y = np.array([1100, 1300, 800, 900, 1000, 1100, 1200])\n",
    "\n",
    "# Multiply the inverse of XTX with the transpose of X, then by y\n",
    "w = XTX_inv @ X.T @ y\n",
    "\n",
    "#print(w)\n",
    "print(\"Sum of all elements in w:\", w.sum())\n"
   ]
  }
 ],
 "metadata": {
  "kernelspec": {
   "display_name": ".venv",
   "language": "python",
   "name": "python3"
  },
  "language_info": {
   "codemirror_mode": {
    "name": "ipython",
    "version": 3
   },
   "file_extension": ".py",
   "mimetype": "text/x-python",
   "name": "python",
   "nbconvert_exporter": "python",
   "pygments_lexer": "ipython3",
   "version": "3.12.6"
  }
 },
 "nbformat": 4,
 "nbformat_minor": 5
}
